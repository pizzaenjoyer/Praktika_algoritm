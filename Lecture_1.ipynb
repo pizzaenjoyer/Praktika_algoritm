{
 "cells": [
  {
   "cell_type": "markdown",
   "id": "9982447a",
   "metadata": {},
   "source": [
    "# Занятие 1\n",
    "- типы данных\n",
    "- операции \n",
    "- приведение типов\n",
    "- условный оператор"
   ]
  },
  {
   "cell_type": "markdown",
   "id": "1eb171a6",
   "metadata": {},
   "source": [
    "A - создаёт сверху <dr>\n",
    "B - создаёт снизу <dr>\n",
    "dd - удаляет <dr>"
   ]
  },
  {
   "cell_type": "markdown",
   "id": "e98dbbca",
   "metadata": {},
   "source": [
    "## Целочисленный тип\n"
   ]
  },
  {
   "cell_type": "code",
   "execution_count": 1,
   "id": "31c541d5",
   "metadata": {},
   "outputs": [
    {
     "data": {
      "text/plain": [
       "1"
      ]
     },
     "execution_count": 1,
     "metadata": {},
     "output_type": "execute_result"
    }
   ],
   "source": [
    "1\n"
   ]
  },
  {
   "cell_type": "code",
   "execution_count": 2,
   "id": "adb75f1f",
   "metadata": {},
   "outputs": [
    {
     "data": {
      "text/plain": [
       "int"
      ]
     },
     "execution_count": 2,
     "metadata": {},
     "output_type": "execute_result"
    }
   ],
   "source": [
    "type(1)"
   ]
  },
  {
   "cell_type": "code",
   "execution_count": 3,
   "id": "dab93973",
   "metadata": {},
   "outputs": [
    {
     "data": {
      "text/plain": [
       "3"
      ]
     },
     "execution_count": 3,
     "metadata": {},
     "output_type": "execute_result"
    }
   ],
   "source": [
    "1 +2"
   ]
  },
  {
   "cell_type": "code",
   "execution_count": 4,
   "id": "c49fbeda",
   "metadata": {},
   "outputs": [
    {
     "data": {
      "text/plain": [
       "1"
      ]
     },
     "execution_count": 4,
     "metadata": {},
     "output_type": "execute_result"
    }
   ],
   "source": [
    "3 - 2"
   ]
  },
  {
   "cell_type": "code",
   "execution_count": 5,
   "id": "28a28f22",
   "metadata": {},
   "outputs": [
    {
     "data": {
      "text/plain": [
       "0.75"
      ]
     },
     "execution_count": 5,
     "metadata": {},
     "output_type": "execute_result"
    }
   ],
   "source": [
    "3/4"
   ]
  },
  {
   "cell_type": "code",
   "execution_count": 6,
   "id": "90ed840b",
   "metadata": {},
   "outputs": [
    {
     "data": {
      "text/plain": [
       "2"
      ]
     },
     "execution_count": 6,
     "metadata": {},
     "output_type": "execute_result"
    }
   ],
   "source": [
    "5 % 3"
   ]
  },
  {
   "cell_type": "code",
   "execution_count": 7,
   "id": "e3164c4a",
   "metadata": {},
   "outputs": [
    {
     "data": {
      "text/plain": [
       "True"
      ]
     },
     "execution_count": 7,
     "metadata": {},
     "output_type": "execute_result"
    }
   ],
   "source": [
    "6 > 4\n"
   ]
  },
  {
   "cell_type": "markdown",
   "id": "072b97e6",
   "metadata": {},
   "source": [
    "# Условный оператор"
   ]
  },
  {
   "cell_type": "code",
   "execution_count": 14,
   "id": "145b8642",
   "metadata": {},
   "outputs": [
    {
     "name": "stdout",
     "output_type": "stream",
     "text": [
      "2\n"
     ]
    }
   ],
   "source": [
    "if False:\n",
    "    print(123)\n",
    "else:\n",
    "    print(2)\n",
    "    "
   ]
  }
 ],
 "metadata": {
  "kernelspec": {
   "display_name": "Python 3 (ipykernel)",
   "language": "python",
   "name": "python3"
  },
  "language_info": {
   "codemirror_mode": {
    "name": "ipython",
    "version": 3
   },
   "file_extension": ".py",
   "mimetype": "text/x-python",
   "name": "python",
   "nbconvert_exporter": "python",
   "pygments_lexer": "ipython3",
   "version": "3.9.7"
  }
 },
 "nbformat": 4,
 "nbformat_minor": 5
}
